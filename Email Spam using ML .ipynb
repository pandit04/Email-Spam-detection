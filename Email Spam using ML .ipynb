{
 "cells": [
  {
   "cell_type": "code",
   "execution_count": 10,
   "id": "2cce54a7",
   "metadata": {},
   "outputs": [],
   "source": [
    "import numpy as np \n",
    "import pandas as pd\n",
    "from sklearn.model_selection import train_test_split\n",
    "from sklearn.feature_extraction.text import TfidfVectorizer\n",
    "from sklearn.metrics import accuracy_score, classification_report, confusion_matrix\n",
    "from matplotlib import pyplot as plt"
   ]
  },
  {
   "cell_type": "code",
   "execution_count": 11,
   "id": "648055d7",
   "metadata": {},
   "outputs": [],
   "source": [
    "df = pd.read_csv(\"mail_data.csv\")"
   ]
  },
  {
   "cell_type": "code",
   "execution_count": 13,
   "id": "bff9d713",
   "metadata": {},
   "outputs": [
    {
     "data": {
      "text/html": [
       "<div>\n",
       "<style scoped>\n",
       "    .dataframe tbody tr th:only-of-type {\n",
       "        vertical-align: middle;\n",
       "    }\n",
       "\n",
       "    .dataframe tbody tr th {\n",
       "        vertical-align: top;\n",
       "    }\n",
       "\n",
       "    .dataframe thead th {\n",
       "        text-align: right;\n",
       "    }\n",
       "</style>\n",
       "<table border=\"1\" class=\"dataframe\">\n",
       "  <thead>\n",
       "    <tr style=\"text-align: right;\">\n",
       "      <th></th>\n",
       "      <th>Category</th>\n",
       "      <th>Message</th>\n",
       "    </tr>\n",
       "  </thead>\n",
       "  <tbody>\n",
       "    <tr>\n",
       "      <th>0</th>\n",
       "      <td>ham</td>\n",
       "      <td>Go until jurong point, crazy.. Available only ...</td>\n",
       "    </tr>\n",
       "    <tr>\n",
       "      <th>1</th>\n",
       "      <td>ham</td>\n",
       "      <td>Ok lar... Joking wif u oni...</td>\n",
       "    </tr>\n",
       "    <tr>\n",
       "      <th>2</th>\n",
       "      <td>spam</td>\n",
       "      <td>Free entry in 2 a wkly comp to win FA Cup fina...</td>\n",
       "    </tr>\n",
       "    <tr>\n",
       "      <th>3</th>\n",
       "      <td>ham</td>\n",
       "      <td>U dun say so early hor... U c already then say...</td>\n",
       "    </tr>\n",
       "    <tr>\n",
       "      <th>4</th>\n",
       "      <td>ham</td>\n",
       "      <td>Nah I don't think he goes to usf, he lives aro...</td>\n",
       "    </tr>\n",
       "    <tr>\n",
       "      <th>...</th>\n",
       "      <td>...</td>\n",
       "      <td>...</td>\n",
       "    </tr>\n",
       "    <tr>\n",
       "      <th>5567</th>\n",
       "      <td>spam</td>\n",
       "      <td>This is the 2nd time we have tried 2 contact u...</td>\n",
       "    </tr>\n",
       "    <tr>\n",
       "      <th>5568</th>\n",
       "      <td>ham</td>\n",
       "      <td>Will ü b going to esplanade fr home?</td>\n",
       "    </tr>\n",
       "    <tr>\n",
       "      <th>5569</th>\n",
       "      <td>ham</td>\n",
       "      <td>Pity, * was in mood for that. So...any other s...</td>\n",
       "    </tr>\n",
       "    <tr>\n",
       "      <th>5570</th>\n",
       "      <td>ham</td>\n",
       "      <td>The guy did some bitching but I acted like i'd...</td>\n",
       "    </tr>\n",
       "    <tr>\n",
       "      <th>5571</th>\n",
       "      <td>ham</td>\n",
       "      <td>Rofl. Its true to its name</td>\n",
       "    </tr>\n",
       "  </tbody>\n",
       "</table>\n",
       "<p>5572 rows × 2 columns</p>\n",
       "</div>"
      ],
      "text/plain": [
       "     Category                                            Message\n",
       "0         ham  Go until jurong point, crazy.. Available only ...\n",
       "1         ham                      Ok lar... Joking wif u oni...\n",
       "2        spam  Free entry in 2 a wkly comp to win FA Cup fina...\n",
       "3         ham  U dun say so early hor... U c already then say...\n",
       "4         ham  Nah I don't think he goes to usf, he lives aro...\n",
       "...       ...                                                ...\n",
       "5567     spam  This is the 2nd time we have tried 2 contact u...\n",
       "5568      ham               Will ü b going to esplanade fr home?\n",
       "5569      ham  Pity, * was in mood for that. So...any other s...\n",
       "5570      ham  The guy did some bitching but I acted like i'd...\n",
       "5571      ham                         Rofl. Its true to its name\n",
       "\n",
       "[5572 rows x 2 columns]"
      ]
     },
     "execution_count": 13,
     "metadata": {},
     "output_type": "execute_result"
    }
   ],
   "source": [
    "df"
   ]
  },
  {
   "cell_type": "code",
   "execution_count": 14,
   "id": "32a1ef38",
   "metadata": {},
   "outputs": [
    {
     "data": {
      "text/plain": [
       "(5572, 2)"
      ]
     },
     "execution_count": 14,
     "metadata": {},
     "output_type": "execute_result"
    }
   ],
   "source": [
    "## Data Cleaning\n",
    "df.shape"
   ]
  },
  {
   "cell_type": "code",
   "execution_count": 15,
   "id": "502e2fd6",
   "metadata": {},
   "outputs": [
    {
     "name": "stdout",
     "output_type": "stream",
     "text": [
      "<class 'pandas.core.frame.DataFrame'>\n",
      "RangeIndex: 5572 entries, 0 to 5571\n",
      "Data columns (total 2 columns):\n",
      " #   Column    Non-Null Count  Dtype \n",
      "---  ------    --------------  ----- \n",
      " 0   Category  5572 non-null   object\n",
      " 1   Message   5572 non-null   object\n",
      "dtypes: object(2)\n",
      "memory usage: 87.2+ KB\n"
     ]
    }
   ],
   "source": [
    "df.info()"
   ]
  },
  {
   "cell_type": "code",
   "execution_count": 16,
   "id": "3f84cc19",
   "metadata": {},
   "outputs": [
    {
     "data": {
      "text/plain": [
       "Category    0\n",
       "Message     0\n",
       "dtype: int64"
      ]
     },
     "execution_count": 16,
     "metadata": {},
     "output_type": "execute_result"
    }
   ],
   "source": [
    "df.isnull().sum()"
   ]
  },
  {
   "cell_type": "code",
   "execution_count": 17,
   "id": "84800916",
   "metadata": {},
   "outputs": [
    {
     "data": {
      "text/plain": [
       "array(['ham', 'spam'], dtype=object)"
      ]
     },
     "execution_count": 17,
     "metadata": {},
     "output_type": "execute_result"
    }
   ],
   "source": [
    "df['Category'].unique()"
   ]
  },
  {
   "cell_type": "code",
   "execution_count": 18,
   "id": "9afa7ef2",
   "metadata": {},
   "outputs": [
    {
     "data": {
      "text/html": [
       "<div>\n",
       "<style scoped>\n",
       "    .dataframe tbody tr th:only-of-type {\n",
       "        vertical-align: middle;\n",
       "    }\n",
       "\n",
       "    .dataframe tbody tr th {\n",
       "        vertical-align: top;\n",
       "    }\n",
       "\n",
       "    .dataframe thead th {\n",
       "        text-align: right;\n",
       "    }\n",
       "</style>\n",
       "<table border=\"1\" class=\"dataframe\">\n",
       "  <thead>\n",
       "    <tr style=\"text-align: right;\">\n",
       "      <th></th>\n",
       "      <th>Category</th>\n",
       "      <th>Message</th>\n",
       "    </tr>\n",
       "  </thead>\n",
       "  <tbody>\n",
       "    <tr>\n",
       "      <th>0</th>\n",
       "      <td>0</td>\n",
       "      <td>Go until jurong point, crazy.. Available only ...</td>\n",
       "    </tr>\n",
       "    <tr>\n",
       "      <th>1</th>\n",
       "      <td>0</td>\n",
       "      <td>Ok lar... Joking wif u oni...</td>\n",
       "    </tr>\n",
       "    <tr>\n",
       "      <th>2</th>\n",
       "      <td>1</td>\n",
       "      <td>Free entry in 2 a wkly comp to win FA Cup fina...</td>\n",
       "    </tr>\n",
       "    <tr>\n",
       "      <th>3</th>\n",
       "      <td>0</td>\n",
       "      <td>U dun say so early hor... U c already then say...</td>\n",
       "    </tr>\n",
       "    <tr>\n",
       "      <th>4</th>\n",
       "      <td>0</td>\n",
       "      <td>Nah I don't think he goes to usf, he lives aro...</td>\n",
       "    </tr>\n",
       "    <tr>\n",
       "      <th>...</th>\n",
       "      <td>...</td>\n",
       "      <td>...</td>\n",
       "    </tr>\n",
       "    <tr>\n",
       "      <th>5567</th>\n",
       "      <td>1</td>\n",
       "      <td>This is the 2nd time we have tried 2 contact u...</td>\n",
       "    </tr>\n",
       "    <tr>\n",
       "      <th>5568</th>\n",
       "      <td>0</td>\n",
       "      <td>Will ü b going to esplanade fr home?</td>\n",
       "    </tr>\n",
       "    <tr>\n",
       "      <th>5569</th>\n",
       "      <td>0</td>\n",
       "      <td>Pity, * was in mood for that. So...any other s...</td>\n",
       "    </tr>\n",
       "    <tr>\n",
       "      <th>5570</th>\n",
       "      <td>0</td>\n",
       "      <td>The guy did some bitching but I acted like i'd...</td>\n",
       "    </tr>\n",
       "    <tr>\n",
       "      <th>5571</th>\n",
       "      <td>0</td>\n",
       "      <td>Rofl. Its true to its name</td>\n",
       "    </tr>\n",
       "  </tbody>\n",
       "</table>\n",
       "<p>5572 rows × 2 columns</p>\n",
       "</div>"
      ],
      "text/plain": [
       "      Category                                            Message\n",
       "0            0  Go until jurong point, crazy.. Available only ...\n",
       "1            0                      Ok lar... Joking wif u oni...\n",
       "2            1  Free entry in 2 a wkly comp to win FA Cup fina...\n",
       "3            0  U dun say so early hor... U c already then say...\n",
       "4            0  Nah I don't think he goes to usf, he lives aro...\n",
       "...        ...                                                ...\n",
       "5567         1  This is the 2nd time we have tried 2 contact u...\n",
       "5568         0               Will ü b going to esplanade fr home?\n",
       "5569         0  Pity, * was in mood for that. So...any other s...\n",
       "5570         0  The guy did some bitching but I acted like i'd...\n",
       "5571         0                         Rofl. Its true to its name\n",
       "\n",
       "[5572 rows x 2 columns]"
      ]
     },
     "execution_count": 18,
     "metadata": {},
     "output_type": "execute_result"
    }
   ],
   "source": [
    "df['Category'] = df['Category'].map({'spam':1, 'ham':0})\n",
    "df"
   ]
  },
  {
   "cell_type": "code",
   "execution_count": 19,
   "id": "af722bce",
   "metadata": {},
   "outputs": [
    {
     "data": {
      "text/plain": [
       "Category\n",
       "0    4825\n",
       "1     747\n",
       "Name: count, dtype: int64"
      ]
     },
     "execution_count": 19,
     "metadata": {},
     "output_type": "execute_result"
    }
   ],
   "source": [
    "df['Category'].value_counts()"
   ]
  },
  {
   "cell_type": "code",
   "execution_count": 20,
   "id": "81abd522",
   "metadata": {},
   "outputs": [
    {
     "data": {
      "text/plain": [
       "415"
      ]
     },
     "execution_count": 20,
     "metadata": {},
     "output_type": "execute_result"
    }
   ],
   "source": [
    "df.duplicated().sum()"
   ]
  },
  {
   "cell_type": "code",
   "execution_count": 21,
   "id": "1955b1e1",
   "metadata": {},
   "outputs": [],
   "source": [
    "df = df.drop_duplicates(keep = 'first')"
   ]
  },
  {
   "cell_type": "code",
   "execution_count": 22,
   "id": "c225d8f5",
   "metadata": {},
   "outputs": [
    {
     "data": {
      "text/plain": [
       "0"
      ]
     },
     "execution_count": 22,
     "metadata": {},
     "output_type": "execute_result"
    }
   ],
   "source": [
    "df.duplicated().sum()"
   ]
  },
  {
   "cell_type": "code",
   "execution_count": 23,
   "id": "2ba70d71",
   "metadata": {},
   "outputs": [
    {
     "data": {
      "text/plain": [
       "Category\n",
       "0    4516\n",
       "1     641\n",
       "Name: count, dtype: int64"
      ]
     },
     "execution_count": 23,
     "metadata": {},
     "output_type": "execute_result"
    }
   ],
   "source": [
    "## Data Analaysis\n",
    "df['Category'].value_counts()"
   ]
  },
  {
   "cell_type": "code",
   "execution_count": 24,
   "id": "d5c02605",
   "metadata": {},
   "outputs": [
    {
     "data": {
      "image/png": "[encoded data removed]",
      "text/plain": [
       "<Figure size 640x480 with 1 Axes>"
      ]
     },
     "metadata": {},
     "output_type": "display_data"
    }
   ],
   "source": [
    "plt.pie(df['Category'].value_counts(), labels = ['ham', 'spam'], autopct = \"%0.2f\")\n",
    "plt.show()"
   ]
  },
  {
   "cell_type": "code",
   "execution_count": 25,
   "id": "2e004acc",
   "metadata": {},
   "outputs": [],
   "source": [
    "## Data preprocessing\n",
    "\n",
    "import nltk"
   ]
  },
  {
   "cell_type": "code",
   "execution_count": 26,
   "id": "01b47e81",
   "metadata": {},
   "outputs": [
    {
     "name": "stderr",
     "output_type": "stream",
     "text": [
      "[nltk_data] Downloading package punkt to\n",
      "[nltk_data]     C:\\Users\\jayup\\AppData\\Roaming\\nltk_data...\n",
      "[nltk_data]   Package punkt is already up-to-date!\n"
     ]
    },
    {
     "data": {
      "text/plain": [
       "True"
      ]
     },
     "execution_count": 26,
     "metadata": {},
     "output_type": "execute_result"
    }
   ],
   "source": [
    "nltk.download('punkt')"
   ]
  },
  {
   "cell_type": "code",
   "execution_count": 28,
   "id": "a3afb02b",
   "metadata": {},
   "outputs": [
    {
     "name": "stderr",
     "output_type": "stream",
     "text": [
      "[nltk_data] Downloading package stopwords to\n",
      "[nltk_data]     C:\\Users\\jayup\\AppData\\Roaming\\nltk_data...\n",
      "[nltk_data]   Package stopwords is already up-to-date!\n"
     ]
    },
    {
     "data": {
      "text/plain": [
       "['i',\n",
       " 'me',\n",
       " 'my',\n",
       " 'myself',\n",
       " 'we',\n",
       " 'our',\n",
       " 'ours',\n",
       " 'ourselves',\n",
       " 'you',\n",
       " \"you're\",\n",
       " \"you've\",\n",
       " \"you'll\",\n",
       " \"you'd\",\n",
       " 'your',\n",
       " 'yours',\n",
       " 'yourself',\n",
       " 'yourselves',\n",
       " 'he',\n",
       " 'him',\n",
       " 'his',\n",
       " 'himself',\n",
       " 'she',\n",
       " \"she's\",\n",
       " 'her',\n",
       " 'hers',\n",
       " 'herself',\n",
       " 'it',\n",
       " \"it's\",\n",
       " 'its',\n",
       " 'itself',\n",
       " 'they',\n",
       " 'them',\n",
       " 'their',\n",
       " 'theirs',\n",
       " 'themselves',\n",
       " 'what',\n",
       " 'which',\n",
       " 'who',\n",
       " 'whom',\n",
       " 'this',\n",
       " 'that',\n",
       " \"that'll\",\n",
       " 'these',\n",
       " 'those',\n",
       " 'am',\n",
       " 'is',\n",
       " 'are',\n",
       " 'was',\n",
       " 'were',\n",
       " 'be',\n",
       " 'been',\n",
       " 'being',\n",
       " 'have',\n",
       " 'has',\n",
       " 'had',\n",
       " 'having',\n",
       " 'do',\n",
       " 'does',\n",
       " 'did',\n",
       " 'doing',\n",
       " 'a',\n",
       " 'an',\n",
       " 'the',\n",
       " 'and',\n",
       " 'but',\n",
       " 'if',\n",
       " 'or',\n",
       " 'because',\n",
       " 'as',\n",
       " 'until',\n",
       " 'while',\n",
       " 'of',\n",
       " 'at',\n",
       " 'by',\n",
       " 'for',\n",
       " 'with',\n",
       " 'about',\n",
       " 'against',\n",
       " 'between',\n",
       " 'into',\n",
       " 'through',\n",
       " 'during',\n",
       " 'before',\n",
       " 'after',\n",
       " 'above',\n",
       " 'below',\n",
       " 'to',\n",
       " 'from',\n",
       " 'up',\n",
       " 'down',\n",
       " 'in',\n",
       " 'out',\n",
       " 'on',\n",
       " 'off',\n",
       " 'over',\n",
       " 'under',\n",
       " 'again',\n",
       " 'further',\n",
       " 'then',\n",
       " 'once',\n",
       " 'here',\n",
       " 'there',\n",
       " 'when',\n",
       " 'where',\n",
       " 'why',\n",
       " 'how',\n",
       " 'all',\n",
       " 'any',\n",
       " 'both',\n",
       " 'each',\n",
       " 'few',\n",
       " 'more',\n",
       " 'most',\n",
       " 'other',\n",
       " 'some',\n",
       " 'such',\n",
       " 'no',\n",
       " 'nor',\n",
       " 'not',\n",
       " 'only',\n",
       " 'own',\n",
       " 'same',\n",
       " 'so',\n",
       " 'than',\n",
       " 'too',\n",
       " 'very',\n",
       " 's',\n",
       " 't',\n",
       " 'can',\n",
       " 'will',\n",
       " 'just',\n",
       " 'don',\n",
       " \"don't\",\n",
       " 'should',\n",
       " \"should've\",\n",
       " 'now',\n",
       " 'd',\n",
       " 'll',\n",
       " 'm',\n",
       " 'o',\n",
       " 're',\n",
       " 've',\n",
       " 'y',\n",
       " 'ain',\n",
       " 'aren',\n",
       " \"aren't\",\n",
       " 'couldn',\n",
       " \"couldn't\",\n",
       " 'didn',\n",
       " \"didn't\",\n",
       " 'doesn',\n",
       " \"doesn't\",\n",
       " 'hadn',\n",
       " \"hadn't\",\n",
       " 'hasn',\n",
       " \"hasn't\",\n",
       " 'haven',\n",
       " \"haven't\",\n",
       " 'isn',\n",
       " \"isn't\",\n",
       " 'ma',\n",
       " 'mightn',\n",
       " \"mightn't\",\n",
       " 'mustn',\n",
       " \"mustn't\",\n",
       " 'needn',\n",
       " \"needn't\",\n",
       " 'shan',\n",
       " \"shan't\",\n",
       " 'shouldn',\n",
       " \"shouldn't\",\n",
       " 'wasn',\n",
       " \"wasn't\",\n",
       " 'weren',\n",
       " \"weren't\",\n",
       " 'won',\n",
       " \"won't\",\n",
       " 'wouldn',\n",
       " \"wouldn't\"]"
      ]
     },
     "execution_count": 28,
     "metadata": {},
     "output_type": "execute_result"
    }
   ],
   "source": [
    "nltk.download('stopwords')\n",
    "from nltk.corpus import stopwords\n",
    "stopwords.words('english')"
   ]
  },
  {
   "cell_type": "code",
   "execution_count": 29,
   "id": "42c896e0",
   "metadata": {},
   "outputs": [],
   "source": [
    "import string\n",
    "\n",
    "def converted(text):\n",
    "    ## lower case\n",
    "    text = text.lower()\n",
    "    \n",
    "    ## Word Tokenize\n",
    "    text = nltk.word_tokenize(text)\n",
    "    \n",
    "    ## Remove special characters    \n",
    "    z = []\n",
    "    for i in text:\n",
    "        if i.isalnum() and i not in stopwords.words('english') and i not in string.punctuation:\n",
    "            z.append(i)\n",
    "            \n",
    "    return \" \".join(z)"
   ]
  },
  {
   "cell_type": "code",
   "execution_count": 30,
   "id": "a2f145a0",
   "metadata": {},
   "outputs": [
    {
     "data": {
      "text/plain": [
       "'gon na home soon want talk stuff anymore tonight k'"
      ]
     },
     "execution_count": 30,
     "metadata": {},
     "output_type": "execute_result"
    }
   ],
   "source": [
    "converted(\"I'm gonna be home soon and i don't want to talk about this stuff anymore tonight, k?\")"
   ]
  },
  {
   "cell_type": "code",
   "execution_count": 31,
   "id": "978a151a",
   "metadata": {},
   "outputs": [
    {
     "name": "stderr",
     "output_type": "stream",
     "text": [
      "C:\\Users\\jayup\\AppData\\Local\\Temp\\ipykernel_4792\\4289045051.py:1: SettingWithCopyWarning: \n",
      "A value is trying to be set on a copy of a slice from a DataFrame.\n",
      "Try using .loc[row_indexer,col_indexer] = value instead\n",
      "\n",
      "See the caveats in the documentation: https://pandas.pydata.org/pandas-docs/stable/user_guide/indexing.html#returning-a-view-versus-a-copy\n",
      "  df['Converted_Message'] = df['Message'].apply(converted)\n"
     ]
    }
   ],
   "source": [
    "df['Converted_Message'] = df['Message'].apply(converted)"
   ]
  },
  {
   "cell_type": "code",
   "execution_count": 32,
   "id": "4febf6c4",
   "metadata": {},
   "outputs": [
    {
     "data": {
      "text/html": [
       "<div>\n",
       "<style scoped>\n",
       "    .dataframe tbody tr th:only-of-type {\n",
       "        vertical-align: middle;\n",
       "    }\n",
       "\n",
       "    .dataframe tbody tr th {\n",
       "        vertical-align: top;\n",
       "    }\n",
       "\n",
       "    .dataframe thead th {\n",
       "        text-align: right;\n",
       "    }\n",
       "</style>\n",
       "<table border=\"1\" class=\"dataframe\">\n",
       "  <thead>\n",
       "    <tr style=\"text-align: right;\">\n",
       "      <th></th>\n",
       "      <th>Category</th>\n",
       "      <th>Message</th>\n",
       "      <th>Converted_Message</th>\n",
       "    </tr>\n",
       "  </thead>\n",
       "  <tbody>\n",
       "    <tr>\n",
       "      <th>0</th>\n",
       "      <td>0</td>\n",
       "      <td>Go until jurong point, crazy.. Available only ...</td>\n",
       "      <td>go jurong point crazy available bugis n great ...</td>\n",
       "    </tr>\n",
       "    <tr>\n",
       "      <th>1</th>\n",
       "      <td>0</td>\n",
       "      <td>Ok lar... Joking wif u oni...</td>\n",
       "      <td>ok lar joking wif u oni</td>\n",
       "    </tr>\n",
       "    <tr>\n",
       "      <th>2</th>\n",
       "      <td>1</td>\n",
       "      <td>Free entry in 2 a wkly comp to win FA Cup fina...</td>\n",
       "      <td>free entry 2 wkly comp win fa cup final tkts 2...</td>\n",
       "    </tr>\n",
       "    <tr>\n",
       "      <th>3</th>\n",
       "      <td>0</td>\n",
       "      <td>U dun say so early hor... U c already then say...</td>\n",
       "      <td>u dun say early hor u c already say</td>\n",
       "    </tr>\n",
       "    <tr>\n",
       "      <th>4</th>\n",
       "      <td>0</td>\n",
       "      <td>Nah I don't think he goes to usf, he lives aro...</td>\n",
       "      <td>nah think goes usf lives around though</td>\n",
       "    </tr>\n",
       "  </tbody>\n",
       "</table>\n",
       "</div>"
      ],
      "text/plain": [
       "   Category                                            Message  \\\n",
       "0         0  Go until jurong point, crazy.. Available only ...   \n",
       "1         0                      Ok lar... Joking wif u oni...   \n",
       "2         1  Free entry in 2 a wkly comp to win FA Cup fina...   \n",
       "3         0  U dun say so early hor... U c already then say...   \n",
       "4         0  Nah I don't think he goes to usf, he lives aro...   \n",
       "\n",
       "                                   Converted_Message  \n",
       "0  go jurong point crazy available bugis n great ...  \n",
       "1                            ok lar joking wif u oni  \n",
       "2  free entry 2 wkly comp win fa cup final tkts 2...  \n",
       "3                u dun say early hor u c already say  \n",
       "4             nah think goes usf lives around though  "
      ]
     },
     "execution_count": 32,
     "metadata": {},
     "output_type": "execute_result"
    }
   ],
   "source": [
    "df.head()"
   ]
  },
  {
   "cell_type": "code",
   "execution_count": 33,
   "id": "f46dce6c",
   "metadata": {},
   "outputs": [],
   "source": [
    "\n",
    "tfidf = TfidfVectorizer(max_features = 4000)"
   ]
  },
  {
   "cell_type": "code",
   "execution_count": 34,
   "id": "472b1193",
   "metadata": {},
   "outputs": [],
   "source": [
    "X = tfidf.fit_transform(df['Converted_Message']).toarray()"
   ]
  },
  {
   "cell_type": "code",
   "execution_count": 35,
   "id": "8e6aebca",
   "metadata": {},
   "outputs": [
    {
     "data": {
      "text/plain": [
       "array([[0., 0., 0., ..., 0., 0., 0.],\n",
       "       [0., 0., 0., ..., 0., 0., 0.],\n",
       "       [0., 0., 0., ..., 0., 0., 0.],\n",
       "       ...,\n",
       "       [0., 0., 0., ..., 0., 0., 0.],\n",
       "       [0., 0., 0., ..., 0., 0., 0.],\n",
       "       [0., 0., 0., ..., 0., 0., 0.]])"
      ]
     },
     "execution_count": 35,
     "metadata": {},
     "output_type": "execute_result"
    }
   ],
   "source": [
    "X"
   ]
  },
  {
   "cell_type": "code",
   "execution_count": 36,
   "id": "d88a07b0",
   "metadata": {},
   "outputs": [
    {
     "data": {
      "text/plain": [
       "(5157, 4000)"
      ]
     },
     "execution_count": 36,
     "metadata": {},
     "output_type": "execute_result"
    }
   ],
   "source": [
    "X.shape"
   ]
  },
  {
   "cell_type": "code",
   "execution_count": 37,
   "id": "84b937ec",
   "metadata": {},
   "outputs": [
    {
     "data": {
      "text/plain": [
       "array([0, 0, 1, ..., 0, 0, 0], dtype=int64)"
      ]
     },
     "execution_count": 37,
     "metadata": {},
     "output_type": "execute_result"
    }
   ],
   "source": [
    "df['Category'].values"
   ]
  },
  {
   "cell_type": "code",
   "execution_count": 38,
   "id": "70ed8e2d",
   "metadata": {},
   "outputs": [
    {
     "data": {
      "text/plain": [
       "(5157,)"
      ]
     },
     "execution_count": 38,
     "metadata": {},
     "output_type": "execute_result"
    }
   ],
   "source": [
    "y = df['Category'].values\n",
    "y.shape"
   ]
  },
  {
   "cell_type": "code",
   "execution_count": 39,
   "id": "0beb257b",
   "metadata": {},
   "outputs": [],
   "source": [
    "X_train, X_test, y_train, y_test = train_test_split(X, y, test_size = 0.2, random_state = 42, shuffle = True)"
   ]
  },
  {
   "cell_type": "code",
   "execution_count": 40,
   "id": "6e2403c4",
   "metadata": {},
   "outputs": [
    {
     "name": "stdout",
     "output_type": "stream",
     "text": [
      "(5157, 4000)\n",
      "(4125, 4000)\n",
      "(1032, 4000)\n"
     ]
    }
   ],
   "source": [
    "print(X.shape)\n",
    "print(X_train.shape)\n",
    "print(X_test.shape)"
   ]
  },
  {
   "cell_type": "code",
   "execution_count": 41,
   "id": "916821c7",
   "metadata": {},
   "outputs": [
    {
     "name": "stdout",
     "output_type": "stream",
     "text": [
      "(5157,)\n",
      "(4125,)\n",
      "(1032,)\n"
     ]
    }
   ],
   "source": [
    "print(y.shape)\n",
    "print(y_train.shape)\n",
    "print(y_test.shape)"
   ]
  },
  {
   "cell_type": "code",
   "execution_count": 42,
   "id": "369c0580",
   "metadata": {},
   "outputs": [],
   "source": [
    "## Creating and training the model using LR\n",
    "\n",
    "from sklearn.linear_model import LogisticRegression\n",
    "\n",
    "LR = LogisticRegression(solver  = \"liblinear\", penalty = \"l1\")\n",
    "model = LR.fit(X_train, y_train)"
   ]
  },
  {
   "cell_type": "code",
   "execution_count": 43,
   "id": "2b03a5e3",
   "metadata": {},
   "outputs": [
    {
     "name": "stdout",
     "output_type": "stream",
     "text": [
      "Prediction on training data:  [0 0 0 ... 0 0 0]\n",
      "Actual training data values:  [0 0 0 ... 0 0 0]\n"
     ]
    }
   ],
   "source": [
    "## Printing the prediction on train data\n",
    "\n",
    "train_pred = model.predict(X_train)\n",
    "print('Prediction on training data: ', train_pred)\n",
    "\n",
    "## Printing the actual training data values\n",
    "print('Actual training data values: ', y_train)"
   ]
  },
  {
   "cell_type": "code",
   "execution_count": 44,
   "id": "b0bab4bb",
   "metadata": {},
   "outputs": [
    {
     "name": "stdout",
     "output_type": "stream",
     "text": [
      "Classification Report:               precision    recall  f1-score   support\n",
      "\n",
      "           0       0.96      0.99      0.98      3620\n",
      "           1       0.95      0.72      0.82       505\n",
      "\n",
      "    accuracy                           0.96      4125\n",
      "   macro avg       0.96      0.86      0.90      4125\n",
      "weighted avg       0.96      0.96      0.96      4125\n",
      "\n",
      "Confusion Matrix: \n",
      " [[3601   19]\n",
      " [ 141  364]]\n",
      "Accuracy Score:  0.9612121212121212\n",
      "Precision Score:  0.9503916449086162\n"
     ]
    }
   ],
   "source": [
    "## Evaluating the Training model\n",
    "\n",
    "from sklearn.metrics import precision_score\n",
    "\n",
    "print(\"Classification Report:\", classification_report(y_train, train_pred))\n",
    "print(\"Confusion Matrix: \\n\", confusion_matrix(y_train, train_pred))\n",
    "print(\"Accuracy Score: \", accuracy_score(y_train, train_pred))\n",
    "print(\"Precision Score: \", precision_score(y_train, train_pred))\n"
   ]
  },
  {
   "cell_type": "code",
   "execution_count": 45,
   "id": "9430eff5",
   "metadata": {},
   "outputs": [
    {
     "name": "stdout",
     "output_type": "stream",
     "text": [
      "Prediction on testing data:  [0 1 0 ... 0 0 0]\n",
      "Actual testing data values:  [0 0 0 ... 0 0 0]\n"
     ]
    }
   ],
   "source": [
    "## Printing the prediction on test data\n",
    "\n",
    "test_pred = model.predict(X_test)\n",
    "print('Prediction on testing data: ', test_pred)\n",
    "\n",
    "## Printing the actual testing data values\n",
    "print('Actual testing data values: ', y_test)"
   ]
  },
  {
   "cell_type": "code",
   "execution_count": 46,
   "id": "c2c00e39",
   "metadata": {},
   "outputs": [
    {
     "name": "stdout",
     "output_type": "stream",
     "text": [
      "Classification Report:               precision    recall  f1-score   support\n",
      "\n",
      "           0       0.95      0.99      0.97       896\n",
      "           1       0.88      0.68      0.76       136\n",
      "\n",
      "    accuracy                           0.94      1032\n",
      "   macro avg       0.91      0.83      0.87      1032\n",
      "weighted avg       0.94      0.94      0.94      1032\n",
      "\n",
      "Confusion Matrix: \n",
      " [[883  13]\n",
      " [ 44  92]]\n",
      "Accuracy Score:  0.9447674418604651\n",
      "Precision Score:  0.8761904761904762\n"
     ]
    }
   ],
   "source": [
    "## Evaluating the Testing model\n",
    "\n",
    "print(\"Classification Report:\", classification_report(y_test, test_pred))\n",
    "print(\"Confusion Matrix: \\n\", confusion_matrix(y_test, test_pred))\n",
    "print(\"Accuracy Score: \", accuracy_score(y_test, test_pred))\n",
    "print(\"Precision Score: \", precision_score(y_test, test_pred))\n",
    "\n",
    "lr_accuracy = accuracy_score(y_test, test_pred)\n",
    "lr_precision = precision_score(y_test, test_pred)"
   ]
  },
  {
   "cell_type": "code",
   "execution_count": 47,
   "id": "30c64471",
   "metadata": {},
   "outputs": [],
   "source": [
    "## Creating and training the model using NB\n",
    "\n",
    "from sklearn.naive_bayes import MultinomialNB\n",
    "\n",
    "MNB = MultinomialNB()\n",
    "model1 = MNB.fit(X_train, y_train)"
   ]
  },
  {
   "cell_type": "code",
   "execution_count": 48,
   "id": "a627f949",
   "metadata": {},
   "outputs": [
    {
     "name": "stdout",
     "output_type": "stream",
     "text": [
      "Prediction on training data:  [0 0 0 ... 0 0 0]\n",
      "Actual training data values:  [0 0 0 ... 0 0 0]\n"
     ]
    }
   ],
   "source": [
    "## Printing the prediction on train data\n",
    "\n",
    "nb_train_pred = model1.predict(X_train)\n",
    "print('Prediction on training data: ', nb_train_pred)\n",
    "\n",
    "## Printing the actual training data values\n",
    "print('Actual training data values: ', y_train)"
   ]
  },
  {
   "cell_type": "code",
   "execution_count": 49,
   "id": "4ceaeec9",
   "metadata": {},
   "outputs": [
    {
     "name": "stdout",
     "output_type": "stream",
     "text": [
      "Classification Report:               precision    recall  f1-score   support\n",
      "\n",
      "           0       0.97      1.00      0.99      3620\n",
      "           1       1.00      0.81      0.89       505\n",
      "\n",
      "    accuracy                           0.98      4125\n",
      "   macro avg       0.99      0.90      0.94      4125\n",
      "weighted avg       0.98      0.98      0.98      4125\n",
      "\n",
      "Confusion Matrix: \n",
      " [[3620    0]\n",
      " [  98  407]]\n",
      "Accuracy Score:  0.9762424242424242\n",
      "Precision Score:  1.0\n"
     ]
    }
   ],
   "source": [
    "## Evaluating the Training model\n",
    "\n",
    "from sklearn.metrics import precision_score\n",
    "\n",
    "print(\"Classification Report:\", classification_report(y_train, nb_train_pred))\n",
    "print(\"Confusion Matrix: \\n\", confusion_matrix(y_train, nb_train_pred))\n",
    "print(\"Accuracy Score: \", accuracy_score(y_train, nb_train_pred))\n",
    "print(\"Precision Score: \", precision_score(y_train, nb_train_pred))"
   ]
  },
  {
   "cell_type": "code",
   "execution_count": 50,
   "id": "26d4a50f",
   "metadata": {},
   "outputs": [
    {
     "name": "stdout",
     "output_type": "stream",
     "text": [
      "Prediction on testing data:  [0 0 0 ... 0 0 0]\n",
      "Actual testing data values:  [0 0 0 ... 0 0 0]\n"
     ]
    }
   ],
   "source": [
    "## Printing the prediction on test data\n",
    "\n",
    "nb_test_pred = model1.predict(X_test)\n",
    "print('Prediction on testing data: ', nb_test_pred)\n",
    "\n",
    "## Printing the actual testing data values\n",
    "print('Actual testing data values: ', y_test)"
   ]
  },
  {
   "cell_type": "code",
   "execution_count": 51,
   "id": "f387616a",
   "metadata": {},
   "outputs": [
    {
     "name": "stdout",
     "output_type": "stream",
     "text": [
      "Classification Report:               precision    recall  f1-score   support\n",
      "\n",
      "           0       0.98      1.00      0.99       896\n",
      "           1       1.00      0.85      0.92       136\n",
      "\n",
      "    accuracy                           0.98      1032\n",
      "   macro avg       0.99      0.93      0.95      1032\n",
      "weighted avg       0.98      0.98      0.98      1032\n",
      "\n",
      "Confusion Matrix: \n",
      " [[896   0]\n",
      " [ 20 116]]\n",
      "Accuracy Score:  0.9806201550387597\n",
      "Precision Score:  1.0\n"
     ]
    }
   ],
   "source": [
    "## Evaluating the Testing model\n",
    "\n",
    "print(\"Classification Report:\", classification_report(y_test, nb_test_pred))\n",
    "print(\"Confusion Matrix: \\n\", confusion_matrix(y_test, nb_test_pred))\n",
    "print(\"Accuracy Score: \", accuracy_score(y_test, nb_test_pred))\n",
    "print(\"Precision Score: \", precision_score(y_test, nb_test_pred))\n",
    "\n",
    "nb_accuracy = accuracy_score(y_test, nb_test_pred)\n",
    "nb_precision = precision_score(y_test, nb_test_pred)"
   ]
  },
  {
   "cell_type": "code",
   "execution_count": 52,
   "id": "9c30b6f5",
   "metadata": {},
   "outputs": [],
   "source": [
    "#Building and Training using SVC\n",
    "\n",
    "from sklearn.svm import SVC\n",
    "svc= SVC(kernel = \"poly\",gamma = 1.0)\n",
    "model2 = svc.fit(X_train, y_train)"
   ]
  },
  {
   "cell_type": "code",
   "execution_count": 55,
   "id": "603d1031",
   "metadata": {},
   "outputs": [
    {
     "name": "stdout",
     "output_type": "stream",
     "text": [
      "Prediction on training data:  [0 0 0 ... 0 0 0]\n",
      "Actual training data values:  [0 0 0 ... 0 0 0]\n"
     ]
    }
   ],
   "source": [
    "## Printing the prediction on train data\n",
    "\n",
    "sv_train_pred = model2.predict(X_train)\n",
    "print('Prediction on training data: ', sv_train_pred)\n",
    "\n",
    "## Printing the actual training data values\n",
    "print('Actual training data values: ', y_train)"
   ]
  },
  {
   "cell_type": "code",
   "execution_count": 56,
   "id": "e1dab544",
   "metadata": {},
   "outputs": [
    {
     "name": "stdout",
     "output_type": "stream",
     "text": [
      "Classification Report:               precision    recall  f1-score   support\n",
      "\n",
      "           0       1.00      1.00      1.00      3620\n",
      "           1       1.00      1.00      1.00       505\n",
      "\n",
      "    accuracy                           1.00      4125\n",
      "   macro avg       1.00      1.00      1.00      4125\n",
      "weighted avg       1.00      1.00      1.00      4125\n",
      "\n",
      "Confusion Matrix: \n",
      " [[3620    0]\n",
      " [   1  504]]\n",
      "Accuracy Score:  0.9997575757575757\n",
      "Precision Score:  1.0\n"
     ]
    }
   ],
   "source": [
    "#Evaluating the Training Model\n",
    "\n",
    "print(\"Classification Report:\", classification_report(y_train, sv_train_pred))\n",
    "print(\"Confusion Matrix: \\n\", confusion_matrix(y_train, sv_train_pred))\n",
    "print(\"Accuracy Score: \", accuracy_score(y_train, sv_train_pred))\n",
    "print(\"Precision Score: \", precision_score(y_train, sv_train_pred))"
   ]
  },
  {
   "cell_type": "code",
   "execution_count": 57,
   "id": "3ead443f",
   "metadata": {},
   "outputs": [
    {
     "name": "stdout",
     "output_type": "stream",
     "text": [
      "Prediction on training data:  [0 0 0 ... 0 0 0]\n",
      "Actual training data values:  [0 0 0 ... 0 0 0]\n"
     ]
    }
   ],
   "source": [
    "## Printing the prediction on test data\n",
    "\n",
    "sv_test_pred = model2.predict(X_test)\n",
    "print('Prediction on training data: ', sv_test_pred)\n",
    "\n",
    "## Printing the actual training data values\n",
    "print('Actual training data values: ', y_test)"
   ]
  },
  {
   "cell_type": "code",
   "execution_count": 90,
   "id": "eb1eb6de",
   "metadata": {},
   "outputs": [
    {
     "name": "stdout",
     "output_type": "stream",
     "text": [
      "Classification Report:               precision    recall  f1-score   support\n",
      "\n",
      "           0       0.92      1.00      0.96       896\n",
      "           1       1.00      0.46      0.63       136\n",
      "\n",
      "    accuracy                           0.93      1032\n",
      "   macro avg       0.96      0.73      0.80      1032\n",
      "weighted avg       0.93      0.93      0.92      1032\n",
      "\n",
      "Confusion Matrix: \n",
      " [[896   0]\n",
      " [ 73  63]]\n",
      "Accuracy Score:  0.9292635658914729\n",
      "Precision Score:  1.0\n"
     ]
    }
   ],
   "source": [
    "#Evaluating the testing model\n",
    "\n",
    "print(\"Classification Report:\", classification_report(y_test, sv_test_pred))\n",
    "print(\"Confusion Matrix: \\n\", confusion_matrix(y_test, sv_test_pred))\n",
    "print(\"Accuracy Score: \", accuracy_score(y_test, sv_test_pred))\n",
    "print(\"Precision Score: \", precision_score(y_test, sv_test_pred))\n",
    "\n",
    "sv_accuracy = accuracy_score(y_test, sv_test_pred)\n",
    "sv_precision = precision_score(y_test, sv_test_pred)"
   ]
  },
  {
   "cell_type": "code",
   "execution_count": 83,
   "id": "40fbb388",
   "metadata": {},
   "outputs": [],
   "source": [
    "#building and training model using decision trees\n",
    "\n",
    "from sklearn.tree import DecisionTreeClassifier\n",
    "\n",
    "DT = DecisionTreeClassifier(max_depth = 2, random_state = 42)\n",
    "model3 = DT.fit(X_train, y_train)"
   ]
  },
  {
   "cell_type": "code",
   "execution_count": 84,
   "id": "02f56026",
   "metadata": {},
   "outputs": [
    {
     "name": "stdout",
     "output_type": "stream",
     "text": [
      "Prediction on training data:  [0 0 0 ... 0 0 0]\n",
      "Actual training data values:  [0 0 0 ... 0 0 0]\n"
     ]
    }
   ],
   "source": [
    "## Printing the prediction on train data\n",
    "\n",
    "dt_train_pred = model3.predict(X_train)\n",
    "print('Prediction on training data: ', dt_train_pred)\n",
    "\n",
    "## Printing the actual training data values\n",
    "print('Actual training data values: ', y_train)"
   ]
  },
  {
   "cell_type": "code",
   "execution_count": 85,
   "id": "383c1994",
   "metadata": {},
   "outputs": [
    {
     "name": "stdout",
     "output_type": "stream",
     "text": [
      "Classification Report:               precision    recall  f1-score   support\n",
      "\n",
      "           0       0.94      0.99      0.96      3620\n",
      "           1       0.84      0.52      0.64       505\n",
      "\n",
      "    accuracy                           0.93      4125\n",
      "   macro avg       0.89      0.75      0.80      4125\n",
      "weighted avg       0.92      0.93      0.92      4125\n",
      "\n",
      "Confusion Matrix: \n",
      " [[3571   49]\n",
      " [ 243  262]]\n",
      "Accuracy Score:  0.9292121212121213\n",
      "Precision Score:  0.842443729903537\n"
     ]
    }
   ],
   "source": [
    "#Evaluating the Training Model\n",
    "\n",
    "print(\"Classification Report:\", classification_report(y_train, dt_train_pred))\n",
    "print(\"Confusion Matrix: \\n\", confusion_matrix(y_train, dt_train_pred))\n",
    "print(\"Accuracy Score: \", accuracy_score(y_train, dt_train_pred))\n",
    "print(\"Precision Score: \", precision_score(y_train, dt_train_pred))"
   ]
  },
  {
   "cell_type": "code",
   "execution_count": 86,
   "id": "bcbd9fe7",
   "metadata": {},
   "outputs": [
    {
     "name": "stdout",
     "output_type": "stream",
     "text": [
      "Prediction on training data:  [0 0 0 ... 0 0 0]\n",
      "Actual training data values:  [0 0 0 ... 0 0 0]\n"
     ]
    }
   ],
   "source": [
    "## Printing the prediction on test data\n",
    "\n",
    "dt_test_pred = model3.predict(X_test)\n",
    "print('Prediction on training data: ', dt_test_pred)\n",
    "\n",
    "## Printing the actual training data values\n",
    "print('Actual training data values: ', y_test)"
   ]
  },
  {
   "cell_type": "code",
   "execution_count": 87,
   "id": "f4f19f09",
   "metadata": {},
   "outputs": [
    {
     "name": "stdout",
     "output_type": "stream",
     "text": [
      "Classification Report:               precision    recall  f1-score   support\n",
      "\n",
      "           0       0.93      0.98      0.96       896\n",
      "           1       0.83      0.52      0.64       136\n",
      "\n",
      "    accuracy                           0.92      1032\n",
      "   macro avg       0.88      0.75      0.80      1032\n",
      "weighted avg       0.92      0.92      0.91      1032\n",
      "\n",
      "Confusion Matrix: \n",
      " [[881  15]\n",
      " [ 65  71]]\n",
      "Accuracy Score:  0.9224806201550387\n",
      "Precision Score:  0.8255813953488372\n"
     ]
    }
   ],
   "source": [
    "#Evaluating the testing model\n",
    "\n",
    "print(\"Classification Report:\", classification_report(y_test, dt_test_pred))\n",
    "print(\"Confusion Matrix: \\n\", confusion_matrix(y_test, dt_test_pred))\n",
    "print(\"Accuracy Score: \", accuracy_score(y_test, dt_test_pred))\n",
    "print(\"Precision Score: \", precision_score(y_test, dt_test_pred))\n",
    "\n",
    "dt_accuracy = accuracy_score(y_test, dt_test_pred)\n",
    "dt_precision = precision_score(y_test, dt_test_pred)"
   ]
  },
  {
   "cell_type": "code",
   "execution_count": 91,
   "id": "03e5215d",
   "metadata": {},
   "outputs": [
    {
     "name": "stdout",
     "output_type": "stream",
     "text": [
      "Important info for Logistic Regression\n",
      "Logistic Regression accuracy = 0.9447674418604651\n",
      "Logistic Regression accuracy = 0.8761904761904762\n",
      " \n",
      "Important info for Naive Bayes\n",
      "Naive Bayes accuracy = 0.9806201550387597\n",
      "Naive Bayes accuracy = 1.0\n",
      " \n",
      "Important info for Support Vector Machine\n",
      "Support Vector Machine accuracy = 0.9292635658914729\n",
      "Support Vector Machine accuracy = 1.0\n",
      " \n",
      "Important info for Decision Tree\n",
      "Decision Tree accuracy = 0.9224806201550387\n",
      "Decision Tree accuracy = 0.8255813953488372\n",
      " \n"
     ]
    }
   ],
   "source": [
    "clfs = [\"Logistic Regression\",\"Naive Bayes\",\"Support Vector Machine\",\"Decision Tree\"]\n",
    "accuracy = [lr_accuracy,  nb_accuracy, sv_accuracy, dt_accuracy]\n",
    "precision = [lr_precision, nb_precision, sv_precision, dt_precision]\n",
    "\n",
    "def function(clfs, accuracy, precision):\n",
    "    for i in range(len(clfs)):\n",
    "        clf_name = clfs[i]\n",
    "        clf_accuracy = accuracy[i]\n",
    "        clf_precision = precision[i]\n",
    "        \n",
    "        print(\"Important info for {}\".format(clf_name))\n",
    "        print(\"{} accuracy = {}\".format(clf_name, accuracy[i]))\n",
    "        print(\"{} accuracy = {}\".format(clf_name, precision[i]))\n",
    "        print(\" \")\n",
    "        \n",
    "function(clfs, accuracy, precision)"
   ]
  },
  {
   "cell_type": "code",
   "execution_count": null,
   "id": "998e52b5",
   "metadata": {},
   "outputs": [],
   "source": [
    "import pickle \n",
    "\n",
    "pickle.dumpp(tfidf, open(\"vectorizer.pkl\",\"wb\"))\n",
    "pickle.dump(MNB, open(\"model.pkl\",\"wb\"))\n"
   ]
  }
 ],
 "metadata": {
  "kernelspec": {
   "display_name": "Python 3 (ipykernel)",
   "language": "python",
   "name": "python3"
  },
  "language_info": {
   "codemirror_mode": {
    "name": "ipython",
    "version": 3
   },
   "file_extension": ".py",
   "mimetype": "text/x-python",
   "name": "python",
   "nbconvert_exporter": "python",
   "pygments_lexer": "ipython3",
   "version": "3.11.5"
  }
 },
 "nbformat": 4,
 "nbformat_minor": 5
}
